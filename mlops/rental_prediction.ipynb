{
 "cells": [
  {
   "cell_type": "code",
   "execution_count": 77,
   "id": "19b14209-6153-48bc-8302-e247559faa21",
   "metadata": {},
   "outputs": [],
   "source": [
    "import pandas as pd\n",
    "import numpy as np\n",
    "import pickle\n",
    "import json\n",
    "from sklearn import linear_model\n",
    "from sklearn.model_selection import train_test_split\n",
    "from sklearn.linear_model import LinearRegression\n",
    "from sklearn.metrics import mean_squared_error\n"
   ]
  },
  {
   "cell_type": "code",
   "execution_count": 78,
   "id": "8d714a7b-81da-428c-b256-d47dc8ed230b",
   "metadata": {},
   "outputs": [],
   "source": [
    "df = pd.read_csv('rent2.csv')"
   ]
  },
  {
   "cell_type": "code",
   "execution_count": 79,
   "id": "710ae313-5c57-4b5c-9172-b86a59f0b11c",
   "metadata": {},
   "outputs": [],
   "source": [
    "x = df[['Room','sq_ft']]\n",
    "y = df['price']"
   ]
  },
  {
   "cell_type": "code",
   "execution_count": 80,
   "id": "81247bc1-18fb-4019-8550-7118425d7c0e",
   "metadata": {},
   "outputs": [],
   "source": [
    "x_train,x_test,y_train,y_test = train_test_split(x,y,test_size=0.2)"
   ]
  },
  {
   "cell_type": "code",
   "execution_count": 81,
   "id": "10c50c00-62d1-4f7b-b91f-dac9c11b6f71",
   "metadata": {},
   "outputs": [],
   "source": [
    "model = LinearRegression()\n",
    "model = model.fit(x_train,y_train)"
   ]
  },
  {
   "cell_type": "code",
   "execution_count": 82,
   "id": "6bc6a7a3-c24b-485d-a4d6-b23dc38bb43d",
   "metadata": {},
   "outputs": [],
   "source": [
    "#save the model to disk\n",
    "filename = 'model/rental_prediction_model.pkl'\n",
    "pickle.dump(model,open(filename, 'wb'))"
   ]
  },
  {
   "cell_type": "code",
   "execution_count": 95,
   "id": "b7efafa4-bd8d-4a6e-8bb2-79aaa14fdb69",
   "metadata": {},
   "outputs": [],
   "source": [
    "#load the model from disk\n",
    "model = pickle.load(open(filename, 'rb'))"
   ]
  },
  {
   "cell_type": "code",
   "execution_count": 96,
   "id": "1dd3aaea-904e-4d85-b30b-36b32448bb6c",
   "metadata": {},
   "outputs": [],
   "source": [
    "y_pred = model.predict(x_test)"
   ]
  },
  {
   "cell_type": "code",
   "execution_count": 97,
   "id": "cc6ac9e9-9d86-4e31-b227-9ed3d8b275c4",
   "metadata": {},
   "outputs": [],
   "source": [
    "rmse = np.sqrt(mean_squared_error(y_test, y_pred))\n"
   ]
  },
  {
   "cell_type": "code",
   "execution_count": 98,
   "id": "9207085b-6259-47fc-bc75-3b25d0a2c40d",
   "metadata": {},
   "outputs": [
    {
     "name": "stderr",
     "output_type": "stream",
     "text": [
      "/opt/anaconda3/envs/anaconda-ml-ai/lib/python3.11/site-packages/sklearn/utils/validation.py:2739: UserWarning: X does not have valid feature names, but LinearRegression was fitted with feature names\n",
      "  warnings.warn(\n"
     ]
    }
   ],
   "source": [
    "with open('inputs.json', 'r') as f:\n",
    "    user_input = json.load(f)\n",
    "Room = user_input['Room']\n",
    "sq_ft = user_input['sq_ft']\n",
    "user_input_prediction = np.array([[Room,sq_ft]])\n",
    "predicted_rental_price = model.predict(user_input_prediction)"
   ]
  },
  {
   "cell_type": "code",
   "execution_count": 99,
   "id": "f1a79e7a-c06a-4bca-89da-e56228fda05b",
   "metadata": {},
   "outputs": [],
   "source": [
    "output = {'Rental Price prediction using model':float(predicted_rental_price[0])}"
   ]
  },
  {
   "cell_type": "code",
   "execution_count": 100,
   "id": "b7c2c5ee-c174-4bb1-8560-ed528951b2e0",
   "metadata": {},
   "outputs": [],
   "source": [
    "with open('outputs.json', 'w') as f:\n",
    "    json.dump(output,f)"
   ]
  },
  {
   "cell_type": "code",
   "execution_count": null,
   "id": "7da0a0a7-f8fa-4039-b463-34855b117717",
   "metadata": {},
   "outputs": [],
   "source": []
  },
  {
   "cell_type": "code",
   "execution_count": null,
   "id": "6a5d9d34-3347-4b1a-bf6a-5cb2bce8ff93",
   "metadata": {},
   "outputs": [],
   "source": []
  }
 ],
 "metadata": {
  "kernelspec": {
   "display_name": "anaconda-ml-ai",
   "language": "python",
   "name": "conda-env-anaconda-ml-ai"
  },
  "language_info": {
   "codemirror_mode": {
    "name": "ipython",
    "version": 3
   },
   "file_extension": ".py",
   "mimetype": "text/x-python",
   "name": "python",
   "nbconvert_exporter": "python",
   "pygments_lexer": "ipython3",
   "version": "3.11.11"
  }
 },
 "nbformat": 4,
 "nbformat_minor": 5
}
