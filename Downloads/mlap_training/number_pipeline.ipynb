{
 "cells": [
  {
   "cell_type": "code",
   "execution_count": 5,
   "id": "50c76955-020a-49df-b637-7e4044ef6fd8",
   "metadata": {},
   "outputs": [
    {
     "name": "stdout",
     "output_type": "stream",
     "text": [
      "Python 3.12.4\n"
     ]
    }
   ],
   "source": [
    "!Python --version\n"
   ]
  },
  {
   "cell_type": "code",
   "execution_count": 2,
   "id": "1ebd12a5-8b8d-4397-bbf4-46b5ec65201c",
   "metadata": {},
   "outputs": [
    {
     "name": "stdout",
     "output_type": "stream",
     "text": [
      "Requirement already satisfied: kfp in /Users/ogwujosephaudu/kfp-env/lib/python3.13/site-packages (2.13.0)\n",
      "Requirement already satisfied: click<9,>=8.0.0 in /Users/ogwujosephaudu/kfp-env/lib/python3.13/site-packages (from kfp) (8.2.2)\n",
      "Requirement already satisfied: docstring-parser<1,>=0.7.3 in /Users/ogwujosephaudu/kfp-env/lib/python3.13/site-packages (from kfp) (0.17.0)\n",
      "Requirement already satisfied: google-api-core!=2.0.*,!=2.1.*,!=2.2.*,!=2.3.0,<3.0.0dev,>=1.31.5 in /Users/ogwujosephaudu/kfp-env/lib/python3.13/site-packages (from kfp) (2.25.1)\n",
      "Requirement already satisfied: google-auth<3,>=1.6.1 in /Users/ogwujosephaudu/kfp-env/lib/python3.13/site-packages (from kfp) (2.40.3)\n",
      "Requirement already satisfied: google-cloud-storage<4,>=2.2.1 in /Users/ogwujosephaudu/kfp-env/lib/python3.13/site-packages (from kfp) (3.2.0)\n",
      "Requirement already satisfied: kfp-pipeline-spec==0.6.0 in /Users/ogwujosephaudu/kfp-env/lib/python3.13/site-packages (from kfp) (0.6.0)\n",
      "Requirement already satisfied: kfp-server-api<2.5.0,>=2.1.0 in /Users/ogwujosephaudu/kfp-env/lib/python3.13/site-packages (from kfp) (2.4.0)\n",
      "Requirement already satisfied: kubernetes<31,>=8.0.0 in /Users/ogwujosephaudu/kfp-env/lib/python3.13/site-packages (from kfp) (30.1.0)\n",
      "Requirement already satisfied: protobuf<5,>=4.21.1 in /Users/ogwujosephaudu/kfp-env/lib/python3.13/site-packages (from kfp) (4.25.8)\n",
      "Requirement already satisfied: PyYAML<7,>=5.3 in /Users/ogwujosephaudu/kfp-env/lib/python3.13/site-packages (from kfp) (6.0.2)\n",
      "Requirement already satisfied: requests-toolbelt<2,>=0.8.0 in /Users/ogwujosephaudu/kfp-env/lib/python3.13/site-packages (from kfp) (1.0.0)\n",
      "Requirement already satisfied: tabulate<1,>=0.8.6 in /Users/ogwujosephaudu/kfp-env/lib/python3.13/site-packages (from kfp) (0.9.0)\n",
      "Requirement already satisfied: urllib3<3.0.0 in /Users/ogwujosephaudu/kfp-env/lib/python3.13/site-packages (from kfp) (2.5.0)\n",
      "Requirement already satisfied: googleapis-common-protos<2.0.0,>=1.56.2 in /Users/ogwujosephaudu/kfp-env/lib/python3.13/site-packages (from google-api-core!=2.0.*,!=2.1.*,!=2.2.*,!=2.3.0,<3.0.0dev,>=1.31.5->kfp) (1.70.0)\n",
      "Requirement already satisfied: proto-plus<2.0.0,>=1.22.3 in /Users/ogwujosephaudu/kfp-env/lib/python3.13/site-packages (from google-api-core!=2.0.*,!=2.1.*,!=2.2.*,!=2.3.0,<3.0.0dev,>=1.31.5->kfp) (1.26.1)\n",
      "Requirement already satisfied: requests<3.0.0,>=2.18.0 in /Users/ogwujosephaudu/kfp-env/lib/python3.13/site-packages (from google-api-core!=2.0.*,!=2.1.*,!=2.2.*,!=2.3.0,<3.0.0dev,>=1.31.5->kfp) (2.32.4)\n",
      "Requirement already satisfied: cachetools<6.0,>=2.0.0 in /Users/ogwujosephaudu/kfp-env/lib/python3.13/site-packages (from google-auth<3,>=1.6.1->kfp) (5.5.2)\n",
      "Requirement already satisfied: pyasn1-modules>=0.2.1 in /Users/ogwujosephaudu/kfp-env/lib/python3.13/site-packages (from google-auth<3,>=1.6.1->kfp) (0.4.2)\n",
      "Requirement already satisfied: rsa<5,>=3.1.4 in /Users/ogwujosephaudu/kfp-env/lib/python3.13/site-packages (from google-auth<3,>=1.6.1->kfp) (4.9.1)\n",
      "Requirement already satisfied: google-cloud-core<3.0.0,>=2.4.2 in /Users/ogwujosephaudu/kfp-env/lib/python3.13/site-packages (from google-cloud-storage<4,>=2.2.1->kfp) (2.4.3)\n",
      "Requirement already satisfied: google-resumable-media<3.0.0,>=2.7.2 in /Users/ogwujosephaudu/kfp-env/lib/python3.13/site-packages (from google-cloud-storage<4,>=2.2.1->kfp) (2.7.2)\n",
      "Requirement already satisfied: google-crc32c<2.0.0,>=1.1.3 in /Users/ogwujosephaudu/kfp-env/lib/python3.13/site-packages (from google-cloud-storage<4,>=2.2.1->kfp) (1.7.1)\n",
      "Requirement already satisfied: six>=1.10 in /Users/ogwujosephaudu/kfp-env/lib/python3.13/site-packages (from kfp-server-api<2.5.0,>=2.1.0->kfp) (1.17.0)\n",
      "Requirement already satisfied: certifi in /Users/ogwujosephaudu/kfp-env/lib/python3.13/site-packages (from kfp-server-api<2.5.0,>=2.1.0->kfp) (2025.7.14)\n",
      "Requirement already satisfied: python-dateutil in /Users/ogwujosephaudu/kfp-env/lib/python3.13/site-packages (from kfp-server-api<2.5.0,>=2.1.0->kfp) (2.9.0.post0)\n",
      "Requirement already satisfied: websocket-client!=0.40.0,!=0.41.*,!=0.42.*,>=0.32.0 in /Users/ogwujosephaudu/kfp-env/lib/python3.13/site-packages (from kubernetes<31,>=8.0.0->kfp) (1.8.0)\n",
      "Requirement already satisfied: requests-oauthlib in /Users/ogwujosephaudu/kfp-env/lib/python3.13/site-packages (from kubernetes<31,>=8.0.0->kfp) (2.0.0)\n",
      "Requirement already satisfied: oauthlib>=3.2.2 in /Users/ogwujosephaudu/kfp-env/lib/python3.13/site-packages (from kubernetes<31,>=8.0.0->kfp) (3.3.1)\n",
      "Requirement already satisfied: charset_normalizer<4,>=2 in /Users/ogwujosephaudu/kfp-env/lib/python3.13/site-packages (from requests<3.0.0,>=2.18.0->google-api-core!=2.0.*,!=2.1.*,!=2.2.*,!=2.3.0,<3.0.0dev,>=1.31.5->kfp) (3.4.2)\n",
      "Requirement already satisfied: idna<4,>=2.5 in /Users/ogwujosephaudu/kfp-env/lib/python3.13/site-packages (from requests<3.0.0,>=2.18.0->google-api-core!=2.0.*,!=2.1.*,!=2.2.*,!=2.3.0,<3.0.0dev,>=1.31.5->kfp) (3.10)\n",
      "Requirement already satisfied: pyasn1>=0.1.3 in /Users/ogwujosephaudu/kfp-env/lib/python3.13/site-packages (from rsa<5,>=3.1.4->google-auth<3,>=1.6.1->kfp) (0.6.1)\n"
     ]
    },
    {
     "ename": "ModuleNotFoundError",
     "evalue": "No module named 'kfp'",
     "output_type": "error",
     "traceback": [
      "\u001b[0;31m---------------------------------------------------------------------------\u001b[0m",
      "\u001b[0;31mModuleNotFoundError\u001b[0m                       Traceback (most recent call last)",
      "Cell \u001b[0;32mIn[2], line 2\u001b[0m\n\u001b[1;32m      1\u001b[0m get_ipython()\u001b[38;5;241m.\u001b[39msystem(\u001b[38;5;124m'\u001b[39m\u001b[38;5;124mpip install kfp\u001b[39m\u001b[38;5;124m'\u001b[39m)\n\u001b[0;32m----> 2\u001b[0m \u001b[38;5;28;01mfrom\u001b[39;00m\u001b[38;5;250m \u001b[39m\u001b[38;5;21;01mkfp\u001b[39;00m\u001b[38;5;250m \u001b[39m\u001b[38;5;28;01mimport\u001b[39;00m dsl\n\u001b[1;32m      3\u001b[0m \u001b[38;5;28;01mimport\u001b[39;00m\u001b[38;5;250m \u001b[39m\u001b[38;5;21;01mkfp\u001b[39;00m\n",
      "\u001b[0;31mModuleNotFoundError\u001b[0m: No module named 'kfp'"
     ]
    }
   ],
   "source": [
    "!pip install kfp\n",
    "from kfp import dsl\n",
    "import kfp"
   ]
  },
  {
   "cell_type": "code",
   "execution_count": null,
   "id": "a7e07e5d-735b-4f6f-bac4-8f6e3771f953",
   "metadata": {},
   "outputs": [],
   "source": []
  }
 ],
 "metadata": {
  "kernelspec": {
   "display_name": "anaconda-ml-ai",
   "language": "python",
   "name": "conda-env-anaconda-ml-ai"
  },
  "language_info": {
   "codemirror_mode": {
    "name": "ipython",
    "version": 3
   },
   "file_extension": ".py",
   "mimetype": "text/x-python",
   "name": "python",
   "nbconvert_exporter": "python",
   "pygments_lexer": "ipython3",
   "version": "3.11.0"
  }
 },
 "nbformat": 4,
 "nbformat_minor": 5
}
