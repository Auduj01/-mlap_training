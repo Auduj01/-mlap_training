!Python --version



!pip install kfp
from kfp import dsl
import kfp



